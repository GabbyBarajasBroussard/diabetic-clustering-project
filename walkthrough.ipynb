{
 "cells": [
  {
   "cell_type": "code",
   "execution_count": 1,
   "metadata": {},
   "outputs": [],
   "source": [
    "# ignore warnings\n",
    "import warnings\n",
    "warnings.filterwarnings(\"ignore\")\n",
    "\n",
    "# Wrangling\n",
    "import pandas as pd\n",
    "import numpy as np\n",
    "from prepare import clean_diabetic_data, data_split, select_kbest, rfe\n",
    "from acquire import get_diabetic_data\n",
    "# Statistical Tests\n",
    "import scipy.stats as stats\n",
    "\n",
    "# Visualizing\n",
    "import matplotlib.pyplot as plt\n",
    "from matplotlib import cm\n",
    "import seaborn as sns\n",
    "\n",
    "#Modeling Imports\n",
    "from sklearn.model_selection import learning_curve\n",
    "from sklearn.cluster import KMeans, dbscan\n",
    "from sklearn.model_selection import train_test_split\n",
    "from sklearn.linear_model import LinearRegression\n",
    "from sklearn.feature_selection import SelectKBest, RFE, f_regression \n",
    "from sklearn.linear_model import LinearRegression, LassoLars\n",
    "from sklearn.preprocessing import PolynomialFeatures\n",
    "\n",
    "# modeling methods\n",
    "from sklearn.metrics import mean_squared_error, explained_variance_score\n",
    "from sklearn.linear_model import LinearRegression, LassoLars, TweedieRegressor\n",
    "from sklearn.preprocessing import PolynomialFeatures\n",
    "\n",
    "pd.set_option('display.max_columns', 80)"
   ]
  },
  {
   "cell_type": "code",
   "execution_count": 2,
   "metadata": {},
   "outputs": [],
   "source": [
    "df=clean_diabetic_data()"
   ]
  },
  {
   "cell_type": "code",
   "execution_count": 3,
   "metadata": {},
   "outputs": [],
   "source": [
    "train, validate, test, X_train, y_train, X_validate, y_validate, X_test, y_test =  data_split(df, stratify_by='time_in_hospital')"
   ]
  },
  {
   "cell_type": "code",
   "execution_count": 4,
   "metadata": {},
   "outputs": [
    {
     "data": {
      "text/plain": [
       "((1712, 62),\n",
       " (735, 62),\n",
       " (612, 62),\n",
       " (1712, 56),\n",
       " (1712,),\n",
       " (735, 56),\n",
       " (735,),\n",
       " (612, 56),\n",
       " (612,))"
      ]
     },
     "execution_count": 4,
     "metadata": {},
     "output_type": "execute_result"
    }
   ],
   "source": [
    "train.shape, validate.shape, test.shape, X_train.shape, y_train.shape, X_validate.shape, y_validate.shape, X_test.shape, y_test.shape"
   ]
  },
  {
   "cell_type": "code",
   "execution_count": 5,
   "metadata": {},
   "outputs": [
    {
     "data": {
      "text/html": [
       "<div>\n",
       "<style scoped>\n",
       "    .dataframe tbody tr th:only-of-type {\n",
       "        vertical-align: middle;\n",
       "    }\n",
       "\n",
       "    .dataframe tbody tr th {\n",
       "        vertical-align: top;\n",
       "    }\n",
       "\n",
       "    .dataframe thead th {\n",
       "        text-align: right;\n",
       "    }\n",
       "</style>\n",
       "<table border=\"1\" class=\"dataframe\">\n",
       "  <thead>\n",
       "    <tr style=\"text-align: right;\">\n",
       "      <th></th>\n",
       "      <th>race</th>\n",
       "      <th>gender</th>\n",
       "      <th>age</th>\n",
       "      <th>weight</th>\n",
       "      <th>time_in_hospital</th>\n",
       "      <th>insulin</th>\n",
       "      <th>race_AfricanAmerican</th>\n",
       "      <th>race_Asian</th>\n",
       "      <th>race_Caucasian</th>\n",
       "      <th>race_Other</th>\n",
       "      <th>gender_Female</th>\n",
       "      <th>gender_Male</th>\n",
       "      <th>age_[0-10)</th>\n",
       "      <th>age_[10-20)</th>\n",
       "      <th>age_[20-30)</th>\n",
       "      <th>age_[30-40)</th>\n",
       "      <th>age_[40-50)</th>\n",
       "      <th>age_[50-60)</th>\n",
       "      <th>age_[60-70)</th>\n",
       "      <th>age_[70-80)</th>\n",
       "      <th>age_[80-90)</th>\n",
       "      <th>age_[90-100)</th>\n",
       "      <th>weight_&gt;200</th>\n",
       "      <th>weight_[0-25)</th>\n",
       "      <th>weight_[100-125)</th>\n",
       "      <th>weight_[125-150)</th>\n",
       "      <th>weight_[150-175)</th>\n",
       "      <th>weight_[175-200)</th>\n",
       "      <th>weight_[25-50)</th>\n",
       "      <th>weight_[50-75)</th>\n",
       "      <th>weight_[75-100)</th>\n",
       "      <th>metformin_Down</th>\n",
       "      <th>metformin_No</th>\n",
       "      <th>metformin_Steady</th>\n",
       "      <th>metformin_Up</th>\n",
       "      <th>repaglinide_Steady</th>\n",
       "      <th>repaglinide_Up</th>\n",
       "      <th>nateglinide_Steady</th>\n",
       "      <th>nateglinide_Up</th>\n",
       "      <th>chlorpropamide_Steady</th>\n",
       "      <th>glimepiride_Down</th>\n",
       "      <th>glimepiride_Steady</th>\n",
       "      <th>glimepiride_Up</th>\n",
       "      <th>glipizide_Down</th>\n",
       "      <th>glipizide_Steady</th>\n",
       "      <th>glipizide_Up</th>\n",
       "      <th>glyburide_Down</th>\n",
       "      <th>glyburide_Steady</th>\n",
       "      <th>glyburide_Up</th>\n",
       "      <th>tolbutamide_Steady</th>\n",
       "      <th>pioglitazone_Down</th>\n",
       "      <th>pioglitazone_Steady</th>\n",
       "      <th>pioglitazone_Up</th>\n",
       "      <th>rosiglitazone_Down</th>\n",
       "      <th>rosiglitazone_Steady</th>\n",
       "      <th>rosiglitazone_Up</th>\n",
       "      <th>acarbose_Steady</th>\n",
       "      <th>acarbose_Up</th>\n",
       "      <th>tolazamide_Steady</th>\n",
       "      <th>insulin_Down</th>\n",
       "      <th>insulin_Steady</th>\n",
       "      <th>insulin_Up</th>\n",
       "    </tr>\n",
       "    <tr>\n",
       "      <th>encounter_id</th>\n",
       "      <th></th>\n",
       "      <th></th>\n",
       "      <th></th>\n",
       "      <th></th>\n",
       "      <th></th>\n",
       "      <th></th>\n",
       "      <th></th>\n",
       "      <th></th>\n",
       "      <th></th>\n",
       "      <th></th>\n",
       "      <th></th>\n",
       "      <th></th>\n",
       "      <th></th>\n",
       "      <th></th>\n",
       "      <th></th>\n",
       "      <th></th>\n",
       "      <th></th>\n",
       "      <th></th>\n",
       "      <th></th>\n",
       "      <th></th>\n",
       "      <th></th>\n",
       "      <th></th>\n",
       "      <th></th>\n",
       "      <th></th>\n",
       "      <th></th>\n",
       "      <th></th>\n",
       "      <th></th>\n",
       "      <th></th>\n",
       "      <th></th>\n",
       "      <th></th>\n",
       "      <th></th>\n",
       "      <th></th>\n",
       "      <th></th>\n",
       "      <th></th>\n",
       "      <th></th>\n",
       "      <th></th>\n",
       "      <th></th>\n",
       "      <th></th>\n",
       "      <th></th>\n",
       "      <th></th>\n",
       "      <th></th>\n",
       "      <th></th>\n",
       "      <th></th>\n",
       "      <th></th>\n",
       "      <th></th>\n",
       "      <th></th>\n",
       "      <th></th>\n",
       "      <th></th>\n",
       "      <th></th>\n",
       "      <th></th>\n",
       "      <th></th>\n",
       "      <th></th>\n",
       "      <th></th>\n",
       "      <th></th>\n",
       "      <th></th>\n",
       "      <th></th>\n",
       "      <th></th>\n",
       "      <th></th>\n",
       "      <th></th>\n",
       "      <th></th>\n",
       "      <th></th>\n",
       "      <th></th>\n",
       "    </tr>\n",
       "  </thead>\n",
       "  <tbody>\n",
       "    <tr>\n",
       "      <th>67220310</th>\n",
       "      <td>Caucasian</td>\n",
       "      <td>Male</td>\n",
       "      <td>[80-90)</td>\n",
       "      <td>[50-75)</td>\n",
       "      <td>6</td>\n",
       "      <td>No</td>\n",
       "      <td>0</td>\n",
       "      <td>0</td>\n",
       "      <td>1</td>\n",
       "      <td>0</td>\n",
       "      <td>0</td>\n",
       "      <td>1</td>\n",
       "      <td>0</td>\n",
       "      <td>0</td>\n",
       "      <td>0</td>\n",
       "      <td>0</td>\n",
       "      <td>0</td>\n",
       "      <td>0</td>\n",
       "      <td>0</td>\n",
       "      <td>0</td>\n",
       "      <td>1</td>\n",
       "      <td>0</td>\n",
       "      <td>0</td>\n",
       "      <td>0</td>\n",
       "      <td>0</td>\n",
       "      <td>0</td>\n",
       "      <td>0</td>\n",
       "      <td>0</td>\n",
       "      <td>0</td>\n",
       "      <td>1</td>\n",
       "      <td>0</td>\n",
       "      <td>0</td>\n",
       "      <td>1</td>\n",
       "      <td>0</td>\n",
       "      <td>0</td>\n",
       "      <td>0</td>\n",
       "      <td>0</td>\n",
       "      <td>0</td>\n",
       "      <td>0</td>\n",
       "      <td>0</td>\n",
       "      <td>0</td>\n",
       "      <td>0</td>\n",
       "      <td>0</td>\n",
       "      <td>0</td>\n",
       "      <td>0</td>\n",
       "      <td>0</td>\n",
       "      <td>0</td>\n",
       "      <td>0</td>\n",
       "      <td>0</td>\n",
       "      <td>0</td>\n",
       "      <td>0</td>\n",
       "      <td>0</td>\n",
       "      <td>0</td>\n",
       "      <td>0</td>\n",
       "      <td>0</td>\n",
       "      <td>0</td>\n",
       "      <td>0</td>\n",
       "      <td>0</td>\n",
       "      <td>0</td>\n",
       "      <td>0</td>\n",
       "      <td>0</td>\n",
       "      <td>0</td>\n",
       "    </tr>\n",
       "    <tr>\n",
       "      <th>373698290</th>\n",
       "      <td>Caucasian</td>\n",
       "      <td>Female</td>\n",
       "      <td>[70-80)</td>\n",
       "      <td>[50-75)</td>\n",
       "      <td>3</td>\n",
       "      <td>No</td>\n",
       "      <td>0</td>\n",
       "      <td>0</td>\n",
       "      <td>1</td>\n",
       "      <td>0</td>\n",
       "      <td>1</td>\n",
       "      <td>0</td>\n",
       "      <td>0</td>\n",
       "      <td>0</td>\n",
       "      <td>0</td>\n",
       "      <td>0</td>\n",
       "      <td>0</td>\n",
       "      <td>0</td>\n",
       "      <td>0</td>\n",
       "      <td>1</td>\n",
       "      <td>0</td>\n",
       "      <td>0</td>\n",
       "      <td>0</td>\n",
       "      <td>0</td>\n",
       "      <td>0</td>\n",
       "      <td>0</td>\n",
       "      <td>0</td>\n",
       "      <td>0</td>\n",
       "      <td>0</td>\n",
       "      <td>1</td>\n",
       "      <td>0</td>\n",
       "      <td>0</td>\n",
       "      <td>1</td>\n",
       "      <td>0</td>\n",
       "      <td>0</td>\n",
       "      <td>0</td>\n",
       "      <td>0</td>\n",
       "      <td>0</td>\n",
       "      <td>0</td>\n",
       "      <td>0</td>\n",
       "      <td>0</td>\n",
       "      <td>0</td>\n",
       "      <td>0</td>\n",
       "      <td>0</td>\n",
       "      <td>0</td>\n",
       "      <td>0</td>\n",
       "      <td>0</td>\n",
       "      <td>1</td>\n",
       "      <td>0</td>\n",
       "      <td>0</td>\n",
       "      <td>0</td>\n",
       "      <td>0</td>\n",
       "      <td>0</td>\n",
       "      <td>0</td>\n",
       "      <td>0</td>\n",
       "      <td>0</td>\n",
       "      <td>0</td>\n",
       "      <td>0</td>\n",
       "      <td>0</td>\n",
       "      <td>0</td>\n",
       "      <td>0</td>\n",
       "      <td>0</td>\n",
       "    </tr>\n",
       "    <tr>\n",
       "      <th>121404990</th>\n",
       "      <td>Caucasian</td>\n",
       "      <td>Male</td>\n",
       "      <td>[70-80)</td>\n",
       "      <td>[75-100)</td>\n",
       "      <td>3</td>\n",
       "      <td>No</td>\n",
       "      <td>0</td>\n",
       "      <td>0</td>\n",
       "      <td>1</td>\n",
       "      <td>0</td>\n",
       "      <td>0</td>\n",
       "      <td>1</td>\n",
       "      <td>0</td>\n",
       "      <td>0</td>\n",
       "      <td>0</td>\n",
       "      <td>0</td>\n",
       "      <td>0</td>\n",
       "      <td>0</td>\n",
       "      <td>0</td>\n",
       "      <td>1</td>\n",
       "      <td>0</td>\n",
       "      <td>0</td>\n",
       "      <td>0</td>\n",
       "      <td>0</td>\n",
       "      <td>0</td>\n",
       "      <td>0</td>\n",
       "      <td>0</td>\n",
       "      <td>0</td>\n",
       "      <td>0</td>\n",
       "      <td>0</td>\n",
       "      <td>1</td>\n",
       "      <td>0</td>\n",
       "      <td>1</td>\n",
       "      <td>0</td>\n",
       "      <td>0</td>\n",
       "      <td>0</td>\n",
       "      <td>0</td>\n",
       "      <td>0</td>\n",
       "      <td>0</td>\n",
       "      <td>0</td>\n",
       "      <td>0</td>\n",
       "      <td>0</td>\n",
       "      <td>0</td>\n",
       "      <td>0</td>\n",
       "      <td>1</td>\n",
       "      <td>0</td>\n",
       "      <td>0</td>\n",
       "      <td>0</td>\n",
       "      <td>0</td>\n",
       "      <td>0</td>\n",
       "      <td>0</td>\n",
       "      <td>0</td>\n",
       "      <td>0</td>\n",
       "      <td>0</td>\n",
       "      <td>1</td>\n",
       "      <td>0</td>\n",
       "      <td>0</td>\n",
       "      <td>0</td>\n",
       "      <td>0</td>\n",
       "      <td>0</td>\n",
       "      <td>0</td>\n",
       "      <td>0</td>\n",
       "    </tr>\n",
       "    <tr>\n",
       "      <th>108540414</th>\n",
       "      <td>Caucasian</td>\n",
       "      <td>Female</td>\n",
       "      <td>[60-70)</td>\n",
       "      <td>[75-100)</td>\n",
       "      <td>6</td>\n",
       "      <td>No</td>\n",
       "      <td>0</td>\n",
       "      <td>0</td>\n",
       "      <td>1</td>\n",
       "      <td>0</td>\n",
       "      <td>1</td>\n",
       "      <td>0</td>\n",
       "      <td>0</td>\n",
       "      <td>0</td>\n",
       "      <td>0</td>\n",
       "      <td>0</td>\n",
       "      <td>0</td>\n",
       "      <td>0</td>\n",
       "      <td>1</td>\n",
       "      <td>0</td>\n",
       "      <td>0</td>\n",
       "      <td>0</td>\n",
       "      <td>0</td>\n",
       "      <td>0</td>\n",
       "      <td>0</td>\n",
       "      <td>0</td>\n",
       "      <td>0</td>\n",
       "      <td>0</td>\n",
       "      <td>0</td>\n",
       "      <td>0</td>\n",
       "      <td>1</td>\n",
       "      <td>0</td>\n",
       "      <td>1</td>\n",
       "      <td>0</td>\n",
       "      <td>0</td>\n",
       "      <td>0</td>\n",
       "      <td>0</td>\n",
       "      <td>0</td>\n",
       "      <td>0</td>\n",
       "      <td>0</td>\n",
       "      <td>0</td>\n",
       "      <td>0</td>\n",
       "      <td>0</td>\n",
       "      <td>0</td>\n",
       "      <td>0</td>\n",
       "      <td>0</td>\n",
       "      <td>0</td>\n",
       "      <td>0</td>\n",
       "      <td>0</td>\n",
       "      <td>0</td>\n",
       "      <td>0</td>\n",
       "      <td>0</td>\n",
       "      <td>0</td>\n",
       "      <td>0</td>\n",
       "      <td>0</td>\n",
       "      <td>0</td>\n",
       "      <td>0</td>\n",
       "      <td>0</td>\n",
       "      <td>0</td>\n",
       "      <td>0</td>\n",
       "      <td>0</td>\n",
       "      <td>0</td>\n",
       "    </tr>\n",
       "    <tr>\n",
       "      <th>46492332</th>\n",
       "      <td>Caucasian</td>\n",
       "      <td>Female</td>\n",
       "      <td>[70-80)</td>\n",
       "      <td>[75-100)</td>\n",
       "      <td>2</td>\n",
       "      <td>Steady</td>\n",
       "      <td>0</td>\n",
       "      <td>0</td>\n",
       "      <td>1</td>\n",
       "      <td>0</td>\n",
       "      <td>1</td>\n",
       "      <td>0</td>\n",
       "      <td>0</td>\n",
       "      <td>0</td>\n",
       "      <td>0</td>\n",
       "      <td>0</td>\n",
       "      <td>0</td>\n",
       "      <td>0</td>\n",
       "      <td>0</td>\n",
       "      <td>1</td>\n",
       "      <td>0</td>\n",
       "      <td>0</td>\n",
       "      <td>0</td>\n",
       "      <td>0</td>\n",
       "      <td>0</td>\n",
       "      <td>0</td>\n",
       "      <td>0</td>\n",
       "      <td>0</td>\n",
       "      <td>0</td>\n",
       "      <td>0</td>\n",
       "      <td>1</td>\n",
       "      <td>0</td>\n",
       "      <td>1</td>\n",
       "      <td>0</td>\n",
       "      <td>0</td>\n",
       "      <td>0</td>\n",
       "      <td>0</td>\n",
       "      <td>0</td>\n",
       "      <td>0</td>\n",
       "      <td>0</td>\n",
       "      <td>0</td>\n",
       "      <td>0</td>\n",
       "      <td>0</td>\n",
       "      <td>0</td>\n",
       "      <td>0</td>\n",
       "      <td>0</td>\n",
       "      <td>0</td>\n",
       "      <td>0</td>\n",
       "      <td>0</td>\n",
       "      <td>0</td>\n",
       "      <td>0</td>\n",
       "      <td>0</td>\n",
       "      <td>0</td>\n",
       "      <td>0</td>\n",
       "      <td>0</td>\n",
       "      <td>0</td>\n",
       "      <td>0</td>\n",
       "      <td>0</td>\n",
       "      <td>0</td>\n",
       "      <td>0</td>\n",
       "      <td>1</td>\n",
       "      <td>0</td>\n",
       "    </tr>\n",
       "  </tbody>\n",
       "</table>\n",
       "</div>"
      ],
      "text/plain": [
       "                   race  gender      age    weight  time_in_hospital insulin  \\\n",
       "encounter_id                                                                   \n",
       "67220310      Caucasian    Male  [80-90)   [50-75)                 6      No   \n",
       "373698290     Caucasian  Female  [70-80)   [50-75)                 3      No   \n",
       "121404990     Caucasian    Male  [70-80)  [75-100)                 3      No   \n",
       "108540414     Caucasian  Female  [60-70)  [75-100)                 6      No   \n",
       "46492332      Caucasian  Female  [70-80)  [75-100)                 2  Steady   \n",
       "\n",
       "              race_AfricanAmerican  race_Asian  race_Caucasian  race_Other  \\\n",
       "encounter_id                                                                 \n",
       "67220310                         0           0               1           0   \n",
       "373698290                        0           0               1           0   \n",
       "121404990                        0           0               1           0   \n",
       "108540414                        0           0               1           0   \n",
       "46492332                         0           0               1           0   \n",
       "\n",
       "              gender_Female  gender_Male  age_[0-10)  age_[10-20)  \\\n",
       "encounter_id                                                        \n",
       "67220310                  0            1           0            0   \n",
       "373698290                 1            0           0            0   \n",
       "121404990                 0            1           0            0   \n",
       "108540414                 1            0           0            0   \n",
       "46492332                  1            0           0            0   \n",
       "\n",
       "              age_[20-30)  age_[30-40)  age_[40-50)  age_[50-60)  age_[60-70)  \\\n",
       "encounter_id                                                                    \n",
       "67220310                0            0            0            0            0   \n",
       "373698290               0            0            0            0            0   \n",
       "121404990               0            0            0            0            0   \n",
       "108540414               0            0            0            0            1   \n",
       "46492332                0            0            0            0            0   \n",
       "\n",
       "              age_[70-80)  age_[80-90)  age_[90-100)  weight_>200  \\\n",
       "encounter_id                                                        \n",
       "67220310                0            1             0            0   \n",
       "373698290               1            0             0            0   \n",
       "121404990               1            0             0            0   \n",
       "108540414               0            0             0            0   \n",
       "46492332                1            0             0            0   \n",
       "\n",
       "              weight_[0-25)  weight_[100-125)  weight_[125-150)  \\\n",
       "encounter_id                                                      \n",
       "67220310                  0                 0                 0   \n",
       "373698290                 0                 0                 0   \n",
       "121404990                 0                 0                 0   \n",
       "108540414                 0                 0                 0   \n",
       "46492332                  0                 0                 0   \n",
       "\n",
       "              weight_[150-175)  weight_[175-200)  weight_[25-50)  \\\n",
       "encounter_id                                                       \n",
       "67220310                     0                 0               0   \n",
       "373698290                    0                 0               0   \n",
       "121404990                    0                 0               0   \n",
       "108540414                    0                 0               0   \n",
       "46492332                     0                 0               0   \n",
       "\n",
       "              weight_[50-75)  weight_[75-100)  metformin_Down  metformin_No  \\\n",
       "encounter_id                                                                  \n",
       "67220310                   1                0               0             1   \n",
       "373698290                  1                0               0             1   \n",
       "121404990                  0                1               0             1   \n",
       "108540414                  0                1               0             1   \n",
       "46492332                   0                1               0             1   \n",
       "\n",
       "              metformin_Steady  metformin_Up  repaglinide_Steady  \\\n",
       "encounter_id                                                       \n",
       "67220310                     0             0                   0   \n",
       "373698290                    0             0                   0   \n",
       "121404990                    0             0                   0   \n",
       "108540414                    0             0                   0   \n",
       "46492332                     0             0                   0   \n",
       "\n",
       "              repaglinide_Up  nateglinide_Steady  nateglinide_Up  \\\n",
       "encounter_id                                                       \n",
       "67220310                   0                   0               0   \n",
       "373698290                  0                   0               0   \n",
       "121404990                  0                   0               0   \n",
       "108540414                  0                   0               0   \n",
       "46492332                   0                   0               0   \n",
       "\n",
       "              chlorpropamide_Steady  glimepiride_Down  glimepiride_Steady  \\\n",
       "encounter_id                                                                \n",
       "67220310                          0                 0                   0   \n",
       "373698290                         0                 0                   0   \n",
       "121404990                         0                 0                   0   \n",
       "108540414                         0                 0                   0   \n",
       "46492332                          0                 0                   0   \n",
       "\n",
       "              glimepiride_Up  glipizide_Down  glipizide_Steady  glipizide_Up  \\\n",
       "encounter_id                                                                   \n",
       "67220310                   0               0                 0             0   \n",
       "373698290                  0               0                 0             0   \n",
       "121404990                  0               0                 1             0   \n",
       "108540414                  0               0                 0             0   \n",
       "46492332                   0               0                 0             0   \n",
       "\n",
       "              glyburide_Down  glyburide_Steady  glyburide_Up  \\\n",
       "encounter_id                                                   \n",
       "67220310                   0                 0             0   \n",
       "373698290                  0                 1             0   \n",
       "121404990                  0                 0             0   \n",
       "108540414                  0                 0             0   \n",
       "46492332                   0                 0             0   \n",
       "\n",
       "              tolbutamide_Steady  pioglitazone_Down  pioglitazone_Steady  \\\n",
       "encounter_id                                                               \n",
       "67220310                       0                  0                    0   \n",
       "373698290                      0                  0                    0   \n",
       "121404990                      0                  0                    0   \n",
       "108540414                      0                  0                    0   \n",
       "46492332                       0                  0                    0   \n",
       "\n",
       "              pioglitazone_Up  rosiglitazone_Down  rosiglitazone_Steady  \\\n",
       "encounter_id                                                              \n",
       "67220310                    0                   0                     0   \n",
       "373698290                   0                   0                     0   \n",
       "121404990                   0                   0                     1   \n",
       "108540414                   0                   0                     0   \n",
       "46492332                    0                   0                     0   \n",
       "\n",
       "              rosiglitazone_Up  acarbose_Steady  acarbose_Up  \\\n",
       "encounter_id                                                   \n",
       "67220310                     0                0            0   \n",
       "373698290                    0                0            0   \n",
       "121404990                    0                0            0   \n",
       "108540414                    0                0            0   \n",
       "46492332                     0                0            0   \n",
       "\n",
       "              tolazamide_Steady  insulin_Down  insulin_Steady  insulin_Up  \n",
       "encounter_id                                                               \n",
       "67220310                      0             0               0           0  \n",
       "373698290                     0             0               0           0  \n",
       "121404990                     0             0               0           0  \n",
       "108540414                     0             0               0           0  \n",
       "46492332                      0             0               1           0  "
      ]
     },
     "execution_count": 5,
     "metadata": {},
     "output_type": "execute_result"
    }
   ],
   "source": [
    "train.head()"
   ]
  },
  {
   "cell_type": "markdown",
   "metadata": {},
   "source": [
    "##### Hypothesis Testing #1 (ANOVA)\n",
    "$H_0$: There is no difference in length of hospital stay between each race.\n",
    "\n",
    "$H_a$: There is a significant difference in length of hospital stay based on race.\n",
    "\n",
    "alpha ($\\alpha$): 1 - confidence level (95% confidence level -> $\\alpha = .05$)"
   ]
  },
  {
   "cell_type": "code",
   "execution_count": 6,
   "metadata": {},
   "outputs": [],
   "source": [
    "n = train.shape[0]     # number of observations\n",
    "degf = n - 2        # degrees of freedom: the # of values in the final calculation of a statistic that are free to vary.\n",
    "conf_interval = .95 # desired confidence interval\n",
    "α = 1 - conf_interval\n",
    "null_hypothesis = \" there is no difference in length of hospital stay between each race.\""
   ]
  },
  {
   "cell_type": "code",
   "execution_count": 7,
   "metadata": {},
   "outputs": [
    {
     "data": {
      "text/plain": [
       "(0.3835495297503344, 0.7648757086166358)"
      ]
     },
     "execution_count": 7,
     "metadata": {},
     "output_type": "execute_result"
    }
   ],
   "source": [
    "F, p = stats.f_oneway(train.time_in_hospital[train.race_AfricanAmerican == 1], train.time_in_hospital[train.race_Asian == 1], train.time_in_hospital[train.race_Caucasian == 1], train.time_in_hospital[train.race_Other == 1])\n",
    "F, p"
   ]
  },
  {
   "cell_type": "code",
   "execution_count": 8,
   "metadata": {},
   "outputs": [
    {
     "name": "stdout",
     "output_type": "stream",
     "text": [
      "We fail to reject the null hypothesis. The null hypothesis is that  there is no difference in length of hospital stay between each race.\n"
     ]
    }
   ],
   "source": [
    "if p > α:\n",
    "    print(\"We fail to reject the null hypothesis. The null hypothesis is that\", null_hypothesis)\n",
    "else:\n",
    "    print(\"We reject the null hypothesis that\", null_hypothesis)"
   ]
  },
  {
   "cell_type": "code",
   "execution_count": 9,
   "metadata": {},
   "outputs": [
    {
     "data": {
      "text/plain": [
       "Text(0.5, 1.0, 'Race v. Time in Hospital')"
      ]
     },
     "execution_count": 9,
     "metadata": {},
     "output_type": "execute_result"
    },
    {
     "data": {
      "image/png": "[encoded data removed]",
      "text/plain": [
       "<Figure size 720x360 with 1 Axes>"
      ]
     },
     "metadata": {
      "needs_background": "light"
     },
     "output_type": "display_data"
    }
   ],
   "source": [
    "p = plt.figure(figsize=(10,5))\n",
    "p = sns.barplot(train.race, train.time_in_hospital, data=train, alpha=.8, color='teal', edgecolor = 'darkblue')\n",
    "overall_rate = train.time_in_hospital.mean()\n",
    "p = plt.axhline(overall_rate, ls='--', color='red', )\n",
    "plt.title('Race v. Time in Hospital')"
   ]
  },
  {
   "cell_type": "markdown",
   "metadata": {},
   "source": [
    "#### Hypothesis Testing #2 (ANOVA)\n",
    "$H_0$: There is no difference in length of hospital stay between when changing insulin dose.\n",
    "\n",
    "$H_a$: There is a significant difference in length of hospital stay when insulin dosage is increased.\n",
    "\n",
    "alpha ($\\alpha$): 1 - confidence level (95% confidence level -> $\\alpha = .05$)"
   ]
  },
  {
   "cell_type": "code",
   "execution_count": 10,
   "metadata": {},
   "outputs": [],
   "source": [
    "n = train.shape[0]     # number of observations\n",
    "degf = n - 2        # degrees of freedom: the # of values in the final calculation of a statistic that are free to vary.\n",
    "conf_interval = .95 # desired confidence interval\n",
    "α = 1 - conf_interval\n",
    "null_hypothesis = 'there is no difference in length of hospital stay between when changing insulin dose.'"
   ]
  },
  {
   "cell_type": "code",
   "execution_count": 11,
   "metadata": {},
   "outputs": [
    {
     "data": {
      "text/plain": [
       "(1.9649100210567043, 0.1412713784906219)"
      ]
     },
     "execution_count": 11,
     "metadata": {},
     "output_type": "execute_result"
    }
   ],
   "source": [
    "F, p = stats.f_oneway(train.time_in_hospital[train.insulin_Down == 1], train.time_in_hospital[train.insulin_Up == 1], train.time_in_hospital[train.insulin_Steady== 1])\n",
    "F, p"
   ]
  },
  {
   "cell_type": "code",
   "execution_count": 12,
   "metadata": {},
   "outputs": [
    {
     "name": "stdout",
     "output_type": "stream",
     "text": [
      "We fail to reject the null hypothesis. The null hypothesis is that there is no difference in length of hospital stay between when changing insulin dose.\n"
     ]
    }
   ],
   "source": [
    "if p > α:\n",
    "    print(\"We fail to reject the null hypothesis. The null hypothesis is that\", null_hypothesis)\n",
    "else:\n",
    "    print(\"We reject the null hypothesis that\", null_hypothesis)"
   ]
  },
  {
   "cell_type": "code",
   "execution_count": 13,
   "metadata": {},
   "outputs": [
    {
     "data": {
      "text/plain": [
       "Text(0.5, 1.0, 'Insulin Dosage v. Time in Hospital')"
      ]
     },
     "execution_count": 13,
     "metadata": {},
     "output_type": "execute_result"
    },
    {
     "data": {
      "image/png": "[encoded data removed]",
      "text/plain": [
       "<Figure size 720x360 with 1 Axes>"
      ]
     },
     "metadata": {
      "needs_background": "light"
     },
     "output_type": "display_data"
    }
   ],
   "source": [
    "p = plt.figure(figsize=(10,5))\n",
    "p = sns.barplot(train.insulin, train.time_in_hospital, data=train, alpha=.8, color='darkseagreen', edgecolor = 'darkblue')\n",
    "overall_rate = train.time_in_hospital.mean()\n",
    "p = plt.axhline(overall_rate, ls='--', color='red', )\n",
    "plt.title('Insulin Dosage v. Time in Hospital')"
   ]
  },
  {
   "cell_type": "code",
   "execution_count": 14,
   "metadata": {},
   "outputs": [
    {
     "data": {
      "text/plain": [
       "Text(0.5, 1.0, 'Age v. Time in Hospital')"
      ]
     },
     "execution_count": 14,
     "metadata": {},
     "output_type": "execute_result"
    },
    {
     "data": {
      "image/png": "[encoded data removed]",
      "text/plain": [
       "<Figure size 720x360 with 1 Axes>"
      ]
     },
     "metadata": {
      "needs_background": "light"
     },
     "output_type": "display_data"
    }
   ],
   "source": [
    "p = plt.figure(figsize=(10,5))\n",
    "p = sns.violinplot(train.age, train.time_in_hospital, data=train, alpha=.8, color='teal', edgecolor = 'darkblue')\n",
    "overall_rate = train.time_in_hospital.mean()\n",
    "p = plt.axhline(overall_rate, ls='--', color='red', )\n",
    "plt.title('Age v. Time in Hospital')"
   ]
  },
  {
   "cell_type": "code",
   "execution_count": 15,
   "metadata": {},
   "outputs": [
    {
     "data": {
      "text/plain": [
       "Text(0.5, 1.0, 'Weight v. Time in Hospital')"
      ]
     },
     "execution_count": 15,
     "metadata": {},
     "output_type": "execute_result"
    },
    {
     "data": {
      "image/png": "[encoded data removed]",
      "text/plain": [
       "<Figure size 720x360 with 1 Axes>"
      ]
     },
     "metadata": {
      "needs_background": "light"
     },
     "output_type": "display_data"
    }
   ],
   "source": [
    "p = plt.figure(figsize=(10,5))\n",
    "p = sns.violinplot(train.weight, train.time_in_hospital, data=train, alpha=.8, color='DarkSeaGreen', edgecolor = 'darkblue')\n",
    "overall_rate = train.time_in_hospital.mean()\n",
    "p = plt.axhline(overall_rate, ls='--', color='red', )\n",
    "plt.title('Weight v. Time in Hospital')"
   ]
  },
  {
   "cell_type": "code",
   "execution_count": 16,
   "metadata": {},
   "outputs": [
    {
     "data": {
      "text/plain": [
       "<matplotlib.axes._subplots.AxesSubplot at 0x7fca3b66e390>"
      ]
     },
     "execution_count": 16,
     "metadata": {},
     "output_type": "execute_result"
    },
    {
     "data": {
      "image/png": "[encoded data removed]",
      "text/plain": [
       "<Figure size 792x648 with 2 Axes>"
      ]
     },
     "metadata": {
      "needs_background": "light"
     },
     "output_type": "display_data"
    }
   ],
   "source": [
    "# Compute the correlation matrix\n",
    "corr = train.corr()\n",
    "\n",
    "# Generate a mask for the upper triangle\n",
    "mask = np.triu(np.ones_like(corr, dtype=bool))\n",
    "\n",
    "# Set up the matplotlib figure\n",
    "f, ax = plt.subplots(figsize=(11, 9))\n",
    "\n",
    "# Generate a custom diverging colormap\n",
    "cmap = sns.diverging_palette(230, 20, as_cmap=True)\n",
    "\n",
    "# Draw the heatmap with the mask and correct aspect ratio\n",
    "sns.heatmap(corr, mask=mask, cmap=cmap, vmax=.3, center=0,\n",
    "            square=True, linewidths=.5, cbar_kws={\"shrink\": .5})"
   ]
  },
  {
   "cell_type": "code",
   "execution_count": 17,
   "metadata": {},
   "outputs": [
    {
     "data": {
      "text/plain": [
       "Index(['race', 'gender', 'age', 'weight', 'time_in_hospital', 'insulin',\n",
       "       'race_AfricanAmerican', 'race_Asian', 'race_Caucasian', 'race_Other',\n",
       "       'gender_Female', 'gender_Male', 'age_[0-10)', 'age_[10-20)',\n",
       "       'age_[20-30)', 'age_[30-40)', 'age_[40-50)', 'age_[50-60)',\n",
       "       'age_[60-70)', 'age_[70-80)', 'age_[80-90)', 'age_[90-100)',\n",
       "       'weight_>200', 'weight_[0-25)', 'weight_[100-125)', 'weight_[125-150)',\n",
       "       'weight_[150-175)', 'weight_[175-200)', 'weight_[25-50)',\n",
       "       'weight_[50-75)', 'weight_[75-100)', 'metformin_Down', 'metformin_No',\n",
       "       'metformin_Steady', 'metformin_Up', 'repaglinide_Steady',\n",
       "       'repaglinide_Up', 'nateglinide_Steady', 'nateglinide_Up',\n",
       "       'chlorpropamide_Steady', 'glimepiride_Down', 'glimepiride_Steady',\n",
       "       'glimepiride_Up', 'glipizide_Down', 'glipizide_Steady', 'glipizide_Up',\n",
       "       'glyburide_Down', 'glyburide_Steady', 'glyburide_Up',\n",
       "       'tolbutamide_Steady', 'pioglitazone_Down', 'pioglitazone_Steady',\n",
       "       'pioglitazone_Up', 'rosiglitazone_Down', 'rosiglitazone_Steady',\n",
       "       'rosiglitazone_Up', 'acarbose_Steady', 'acarbose_Up',\n",
       "       'tolazamide_Steady', 'insulin_Down', 'insulin_Steady', 'insulin_Up'],\n",
       "      dtype='object')"
      ]
     },
     "execution_count": 17,
     "metadata": {},
     "output_type": "execute_result"
    }
   ],
   "source": [
    "train.columns"
   ]
  },
  {
   "cell_type": "markdown",
   "metadata": {},
   "source": [
    "# Clustering"
   ]
  },
  {
   "cell_type": "code",
   "execution_count": 18,
   "metadata": {},
   "outputs": [],
   "source": [
    "np.random.seed(123)"
   ]
  },
  {
   "cell_type": "markdown",
   "metadata": {},
   "source": [
    "### Cluster on Metformin Columns"
   ]
  },
  {
   "cell_type": "code",
   "execution_count": 19,
   "metadata": {},
   "outputs": [],
   "source": [
    "X1 = X_train[['metformin_Down', 'metformin_Steady', 'metformin_Up']]\n",
    "X2 = X_validate[['metformin_Down', 'metformin_Steady', 'metformin_Up']]\n",
    "X3 = X_test[['metformin_Down', 'metformin_Steady', 'metformin_Up']]"
   ]
  },
  {
   "cell_type": "code",
   "execution_count": 20,
   "metadata": {},
   "outputs": [
    {
     "data": {
      "image/png": "[encoded data removed]",
      "text/plain": [
       "<Figure size 648x432 with 1 Axes>"
      ]
     },
     "metadata": {},
     "output_type": "display_data"
    }
   ],
   "source": [
    "with plt.style.context('seaborn-whitegrid'):\n",
    "    plt.figure(figsize=(9, 6))\n",
    "    pd.Series({k: KMeans(k).fit(X1).inertia_ for k in range(2, 12)}).plot(marker='x')\n",
    "    plt.xticks(range(2, 12))\n",
    "    plt.xlabel('k')\n",
    "    plt.ylabel('inertia')\n",
    "    plt.title('Change in inertia as k increases')"
   ]
  },
  {
   "cell_type": "code",
   "execution_count": 21,
   "metadata": {},
   "outputs": [
    {
     "data": {
      "text/plain": [
       "array([0, 0, 0, ..., 0, 0, 0], dtype=int32)"
      ]
     },
     "execution_count": 21,
     "metadata": {},
     "output_type": "execute_result"
    }
   ],
   "source": [
    "# Make the kmeans object\n",
    "kmeans = KMeans(n_clusters=2)\n",
    "\n",
    "# fit the kmeans model\n",
    "kmeans.fit(X1)\n",
    "\n",
    "# use the thing\n",
    "kmeans.predict(X1)"
   ]
  },
  {
   "cell_type": "code",
   "execution_count": 22,
   "metadata": {},
   "outputs": [],
   "source": [
    "X_train['cluster_metformin'] = kmeans.predict(X1)\n",
    "X_validate['cluster_metformin'] = kmeans.predict(X2)\n",
    "X_test['cluster_metformin'] = kmeans.predict(X3)"
   ]
  },
  {
   "cell_type": "markdown",
   "metadata": {},
   "source": [
    "### Cluster on Melgitinides"
   ]
  },
  {
   "cell_type": "code",
   "execution_count": 23,
   "metadata": {},
   "outputs": [],
   "source": [
    "X4 = X_train[['repaglinide_Steady', 'repaglinide_Up', 'nateglinide_Steady', 'nateglinide_Up', ]]\n",
    "X5 = X_validate[['repaglinide_Steady', 'repaglinide_Up', 'nateglinide_Steady', 'nateglinide_Up']]\n",
    "X6 = X_test[['repaglinide_Steady', 'repaglinide_Up', 'nateglinide_Steady', 'nateglinide_Up']]"
   ]
  },
  {
   "cell_type": "code",
   "execution_count": 24,
   "metadata": {},
   "outputs": [
    {
     "data": {
      "image/png": "[encoded data removed]",
      "text/plain": [
       "<Figure size 648x432 with 1 Axes>"
      ]
     },
     "metadata": {},
     "output_type": "display_data"
    }
   ],
   "source": [
    "with plt.style.context('seaborn-whitegrid'):\n",
    "    plt.figure(figsize=(9, 6))\n",
    "    pd.Series({k: KMeans(k).fit(X4).inertia_ for k in range(2, 12)}).plot(marker='x')\n",
    "    plt.xticks(range(2, 12))\n",
    "    plt.xlabel('k')\n",
    "    plt.ylabel('inertia')\n",
    "    plt.title('Change in inertia as k increases')"
   ]
  },
  {
   "cell_type": "code",
   "execution_count": 25,
   "metadata": {},
   "outputs": [
    {
     "data": {
      "text/plain": [
       "array([0, 0, 0, ..., 0, 0, 0], dtype=int32)"
      ]
     },
     "execution_count": 25,
     "metadata": {},
     "output_type": "execute_result"
    }
   ],
   "source": [
    "# Make the kmeans object\n",
    "kmeans = KMeans(n_clusters=2)\n",
    "\n",
    "# fit the kmeans model\n",
    "kmeans.fit(X4)\n",
    "\n",
    "# use the thing\n",
    "kmeans.predict(X4)"
   ]
  },
  {
   "cell_type": "code",
   "execution_count": 26,
   "metadata": {},
   "outputs": [],
   "source": [
    "X_train['cluster_Melgitinides'] = kmeans.predict(X4)\n",
    "X_validate['cluster_Melgitinides'] = kmeans.predict(X5)\n",
    "X_test['cluster_Melgitinides'] = kmeans.predict(X6)"
   ]
  },
  {
   "cell_type": "markdown",
   "metadata": {},
   "source": [
    "### Cluster on sulfonylureas"
   ]
  },
  {
   "cell_type": "code",
   "execution_count": 27,
   "metadata": {},
   "outputs": [],
   "source": [
    "X7 = X_train[['tolazamide_Steady','chlorpropamide_Steady', 'glimepiride_Down', 'glimepiride_Steady', 'glimepiride_Up','glipizide_Down', 'glipizide_Steady', 'glipizide_Up','glyburide_Down', 'glyburide_Steady', 'glyburide_Up', 'tolbutamide_Steady']]\n",
    "X8 = X_validate[['tolazamide_Steady','chlorpropamide_Steady', 'glimepiride_Down', 'glimepiride_Steady', 'glimepiride_Up','glipizide_Down', 'glipizide_Steady', 'glipizide_Up','glyburide_Down', 'glyburide_Steady', 'glyburide_Up', 'tolbutamide_Steady']]\n",
    "X9 = X_test[['tolazamide_Steady','chlorpropamide_Steady', 'glimepiride_Down', 'glimepiride_Steady', 'glimepiride_Up','glipizide_Down', 'glipizide_Steady', 'glipizide_Up','glyburide_Down', 'glyburide_Steady', 'glyburide_Up', 'tolbutamide_Steady']]"
   ]
  },
  {
   "cell_type": "code",
   "execution_count": 28,
   "metadata": {},
   "outputs": [
    {
     "data": {
      "image/png": "[encoded data removed]",
      "text/plain": [
       "<Figure size 648x432 with 1 Axes>"
      ]
     },
     "metadata": {},
     "output_type": "display_data"
    }
   ],
   "source": [
    "with plt.style.context('seaborn-whitegrid'):\n",
    "    plt.figure(figsize=(9, 6))\n",
    "    pd.Series({k: KMeans(k).fit(X7).inertia_ for k in range(2, 12)}).plot(marker='x')\n",
    "    plt.xticks(range(2, 12))\n",
    "    plt.xlabel('k')\n",
    "    plt.ylabel('inertia')\n",
    "    plt.title('Change in inertia as k increases')"
   ]
  },
  {
   "cell_type": "code",
   "execution_count": 29,
   "metadata": {},
   "outputs": [
    {
     "data": {
      "text/plain": [
       "array([0, 1, 2, ..., 2, 0, 0], dtype=int32)"
      ]
     },
     "execution_count": 29,
     "metadata": {},
     "output_type": "execute_result"
    }
   ],
   "source": [
    "# Make the kmeans object\n",
    "kmeans = KMeans(n_clusters=3)\n",
    "\n",
    "# fit the kmeans model\n",
    "kmeans.fit(X7)\n",
    "\n",
    "# use the thing\n",
    "kmeans.predict(X7)\n"
   ]
  },
  {
   "cell_type": "code",
   "execution_count": 30,
   "metadata": {},
   "outputs": [],
   "source": [
    "X_train['cluster_sulfonylureas'] = kmeans.predict(X7)\n",
    "X_validate['cluster_sulfonylureas'] = kmeans.predict(X8)\n",
    "X_test['cluster_sulfonylureas'] = kmeans.predict(X9)"
   ]
  },
  {
   "cell_type": "markdown",
   "metadata": {},
   "source": [
    "### Cluster on Thiazolidinedione-type"
   ]
  },
  {
   "cell_type": "code",
   "execution_count": 31,
   "metadata": {},
   "outputs": [],
   "source": [
    "X10= X_train[['pioglitazone_Down', 'pioglitazone_Steady', 'pioglitazone_Up','rosiglitazone_Down', 'rosiglitazone_Steady','rosiglitazone_Up']]\n",
    "X11= X_validate[['pioglitazone_Down', 'pioglitazone_Steady', 'pioglitazone_Up','rosiglitazone_Down', 'rosiglitazone_Steady','rosiglitazone_Up']]\n",
    "X12= X_test[['pioglitazone_Down', 'pioglitazone_Steady', 'pioglitazone_Up','rosiglitazone_Down', 'rosiglitazone_Steady','rosiglitazone_Up']]"
   ]
  },
  {
   "cell_type": "code",
   "execution_count": 32,
   "metadata": {},
   "outputs": [
    {
     "data": {
      "image/png": "[encoded data removed]",
      "text/plain": [
       "<Figure size 648x432 with 1 Axes>"
      ]
     },
     "metadata": {},
     "output_type": "display_data"
    }
   ],
   "source": [
    "with plt.style.context('seaborn-whitegrid'):\n",
    "    plt.figure(figsize=(9, 6))\n",
    "    pd.Series({k: KMeans(k).fit(X10).inertia_ for k in range(2, 12)}).plot(marker='x')\n",
    "    plt.xticks(range(2, 12))\n",
    "    plt.xlabel('k')\n",
    "    plt.ylabel('inertia')\n",
    "    plt.title('Change in inertia as k increases')"
   ]
  },
  {
   "cell_type": "code",
   "execution_count": 33,
   "metadata": {},
   "outputs": [
    {
     "data": {
      "text/plain": [
       "array([0, 0, 2, ..., 1, 0, 0], dtype=int32)"
      ]
     },
     "execution_count": 33,
     "metadata": {},
     "output_type": "execute_result"
    }
   ],
   "source": [
    "# Make the kmeans object\n",
    "kmeans = KMeans(n_clusters=3)\n",
    "\n",
    "# fit the kmeans model\n",
    "kmeans.fit(X10)\n",
    "\n",
    "# use the thing\n",
    "kmeans.predict(X10)"
   ]
  },
  {
   "cell_type": "code",
   "execution_count": 34,
   "metadata": {},
   "outputs": [],
   "source": [
    "X_train['cluster_t_types'] = kmeans.predict(X10)\n",
    "X_validate['cluster_t_types'] = kmeans.predict(X11)\n",
    "X_test['cluster_t_types'] = kmeans.predict(X12)"
   ]
  },
  {
   "cell_type": "markdown",
   "metadata": {},
   "source": [
    "### Cluster on Alpha-glucosidase inhibitors"
   ]
  },
  {
   "cell_type": "code",
   "execution_count": 35,
   "metadata": {},
   "outputs": [],
   "source": [
    "X13= X_train[['acarbose_Steady', 'acarbose_Up']]\n",
    "X14= X_validate[['acarbose_Steady', 'acarbose_Up']]\n",
    "X15= X_test[['acarbose_Steady', 'acarbose_Up']]"
   ]
  },
  {
   "cell_type": "code",
   "execution_count": 36,
   "metadata": {},
   "outputs": [
    {
     "data": {
      "image/png": "[encoded data removed]",
      "text/plain": [
       "<Figure size 648x432 with 1 Axes>"
      ]
     },
     "metadata": {},
     "output_type": "display_data"
    }
   ],
   "source": [
    "with plt.style.context('seaborn-whitegrid'):\n",
    "    plt.figure(figsize=(9, 6))\n",
    "    pd.Series({k: KMeans(k).fit(X13).inertia_ for k in range(2, 12)}).plot(marker='x')\n",
    "    plt.xticks(range(2, 12))\n",
    "    plt.xlabel('k')\n",
    "    plt.ylabel('inertia')\n",
    "    plt.title('Change in inertia as k increases')"
   ]
  },
  {
   "cell_type": "code",
   "execution_count": 37,
   "metadata": {},
   "outputs": [
    {
     "data": {
      "text/plain": [
       "array([0, 0, 0, ..., 0, 0, 0], dtype=int32)"
      ]
     },
     "execution_count": 37,
     "metadata": {},
     "output_type": "execute_result"
    }
   ],
   "source": [
    "# Make the kmeans object\n",
    "kmeans = KMeans(n_clusters=2)\n",
    "\n",
    "# fit the kmeans model\n",
    "kmeans.fit(X13)\n",
    "\n",
    "# use the thing\n",
    "kmeans.predict(X13)"
   ]
  },
  {
   "cell_type": "code",
   "execution_count": 38,
   "metadata": {},
   "outputs": [],
   "source": [
    "X_train['cluster_agi'] = kmeans.predict(X13)\n",
    "X_validate['cluster_agi'] = kmeans.predict(X14)\n",
    "X_test['cluster_agi'] = kmeans.predict(X15)"
   ]
  },
  {
   "cell_type": "markdown",
   "metadata": {},
   "source": [
    "### Cluster on Insulin"
   ]
  },
  {
   "cell_type": "code",
   "execution_count": 39,
   "metadata": {},
   "outputs": [],
   "source": [
    "X16= X_train[['insulin_Down','insulin_Steady', 'insulin_Up']]\n",
    "X17= X_validate[['insulin_Down','insulin_Steady', 'insulin_Up']]\n",
    "X18= X_test[['insulin_Down','insulin_Steady', 'insulin_Up']]"
   ]
  },
  {
   "cell_type": "code",
   "execution_count": 40,
   "metadata": {},
   "outputs": [
    {
     "data": {
      "image/png": "[encoded data removed]",
      "text/plain": [
       "<Figure size 648x432 with 1 Axes>"
      ]
     },
     "metadata": {},
     "output_type": "display_data"
    }
   ],
   "source": [
    "with plt.style.context('seaborn-whitegrid'):\n",
    "    plt.figure(figsize=(9, 6))\n",
    "    pd.Series({k: KMeans(k).fit(X16).inertia_ for k in range(2, 12)}).plot(marker='x')\n",
    "    plt.xticks(range(2, 12))\n",
    "    plt.xlabel('k')\n",
    "    plt.ylabel('inertia')\n",
    "    plt.title('Change in inertia as k increases')"
   ]
  },
  {
   "cell_type": "code",
   "execution_count": 41,
   "metadata": {},
   "outputs": [
    {
     "data": {
      "text/plain": [
       "array([1, 1, 1, ..., 1, 1, 1], dtype=int32)"
      ]
     },
     "execution_count": 41,
     "metadata": {},
     "output_type": "execute_result"
    }
   ],
   "source": [
    "# Make the kmeans object\n",
    "kmeans = KMeans(n_clusters=2)\n",
    "\n",
    "# fit the kmeans model\n",
    "kmeans.fit(X16)\n",
    "\n",
    "# use the thing\n",
    "kmeans.predict(X16)"
   ]
  },
  {
   "cell_type": "code",
   "execution_count": 42,
   "metadata": {},
   "outputs": [],
   "source": [
    "X_train['cluster_insulin'] = kmeans.predict(X16)\n",
    "X_validate['cluster_insulin'] = kmeans.predict(X17)\n",
    "X_test['cluster_insulin'] = kmeans.predict(X18)"
   ]
  },
  {
   "cell_type": "markdown",
   "metadata": {},
   "source": [
    "### Cluster on Demographics"
   ]
  },
  {
   "cell_type": "code",
   "execution_count": 43,
   "metadata": {},
   "outputs": [],
   "source": [
    "X19= X_train[['race_AfricanAmerican', 'race_Asian', 'race_Caucasian', 'race_Other',\n",
    "       'gender_Female', 'gender_Male']]\n",
    "X20= X_validate[['race_AfricanAmerican', 'race_Asian', 'race_Caucasian', 'race_Other',\n",
    "       'gender_Female', 'gender_Male']]\n",
    "X21= X_test[['race_AfricanAmerican', 'race_Asian', 'race_Caucasian', 'race_Other',\n",
    "       'gender_Female', 'gender_Male']]"
   ]
  },
  {
   "cell_type": "code",
   "execution_count": 44,
   "metadata": {},
   "outputs": [
    {
     "data": {
      "image/png": "[encoded data removed]",
      "text/plain": [
       "<Figure size 648x432 with 1 Axes>"
      ]
     },
     "metadata": {},
     "output_type": "display_data"
    }
   ],
   "source": [
    "with plt.style.context('seaborn-whitegrid'):\n",
    "    plt.figure(figsize=(9, 6))\n",
    "    pd.Series({k: KMeans(k).fit(X16).inertia_ for k in range(2, 12)}).plot(marker='x')\n",
    "    plt.xticks(range(2, 12))\n",
    "    plt.xlabel('k')\n",
    "    plt.ylabel('inertia')\n",
    "    plt.title('Change in inertia as k increases')"
   ]
  },
  {
   "cell_type": "code",
   "execution_count": 45,
   "metadata": {},
   "outputs": [
    {
     "data": {
      "text/plain": [
       "array([2, 1, 2, ..., 2, 2, 2], dtype=int32)"
      ]
     },
     "execution_count": 45,
     "metadata": {},
     "output_type": "execute_result"
    }
   ],
   "source": [
    "# Make the kmeans object\n",
    "kmeans = KMeans(n_clusters=3)\n",
    "\n",
    "# fit the kmeans model\n",
    "kmeans.fit(X19)\n",
    "\n",
    "# use the thing\n",
    "kmeans.predict(X19)"
   ]
  },
  {
   "cell_type": "code",
   "execution_count": 46,
   "metadata": {},
   "outputs": [],
   "source": [
    "X_train['cluster_demographics'] = kmeans.predict(X19)\n",
    "X_validate['cluster_demographics'] = kmeans.predict(X20)\n",
    "X_test['cluster_demographics'] = kmeans.predict(X21)\n",
    "train['cluster_demographics'] = kmeans.predict(X19)"
   ]
  },
  {
   "cell_type": "markdown",
   "metadata": {},
   "source": [
    "### Cluster on Age and Weight"
   ]
  },
  {
   "cell_type": "code",
   "execution_count": 47,
   "metadata": {},
   "outputs": [],
   "source": [
    "X22= X_train[['age_[0-10)', 'age_[10-20)', 'age_[20-30)', 'age_[30-40)', 'age_[40-50)', 'age_[50-60)',\n",
    "       'age_[60-70)', 'age_[70-80)', 'age_[80-90)', 'age_[90-100)',\n",
    "       'weight_>200', 'weight_[0-25)', 'weight_[100-125)', 'weight_[125-150)',\n",
    "       'weight_[150-175)', 'weight_[175-200)', 'weight_[25-50)','weight_[50-75)', 'weight_[75-100)']]\n",
    "X23= X_validate[['age_[0-10)', 'age_[10-20)', 'age_[20-30)', 'age_[30-40)', 'age_[40-50)', 'age_[50-60)',\n",
    "       'age_[60-70)', 'age_[70-80)', 'age_[80-90)', 'age_[90-100)',\n",
    "       'weight_>200', 'weight_[0-25)', 'weight_[100-125)', 'weight_[125-150)',\n",
    "       'weight_[150-175)', 'weight_[175-200)', 'weight_[25-50)','weight_[50-75)', 'weight_[75-100)']]\n",
    "X24= X_test[['age_[0-10)', 'age_[10-20)', 'age_[20-30)', 'age_[30-40)', 'age_[40-50)', 'age_[50-60)',\n",
    "       'age_[60-70)', 'age_[70-80)', 'age_[80-90)', 'age_[90-100)',\n",
    "       'weight_>200', 'weight_[0-25)', 'weight_[100-125)', 'weight_[125-150)',\n",
    "       'weight_[150-175)', 'weight_[175-200)', 'weight_[25-50)','weight_[50-75)', 'weight_[75-100)']]"
   ]
  },
  {
   "cell_type": "code",
   "execution_count": 48,
   "metadata": {},
   "outputs": [
    {
     "data": {
      "image/png": "[encoded data removed]",
      "text/plain": [
       "<Figure size 648x432 with 1 Axes>"
      ]
     },
     "metadata": {},
     "output_type": "display_data"
    }
   ],
   "source": [
    "with plt.style.context('seaborn-whitegrid'):\n",
    "    plt.figure(figsize=(9, 6))\n",
    "    pd.Series({k: KMeans(k).fit(X16).inertia_ for k in range(2, 12)}).plot(marker='x')\n",
    "    plt.xticks(range(2, 12))\n",
    "    plt.xlabel('k')\n",
    "    plt.ylabel('inertia')\n",
    "    plt.title('Change in inertia as k increases')"
   ]
  },
  {
   "cell_type": "code",
   "execution_count": 49,
   "metadata": {},
   "outputs": [
    {
     "data": {
      "text/plain": [
       "array([2, 2, 1, ..., 1, 1, 1], dtype=int32)"
      ]
     },
     "execution_count": 49,
     "metadata": {},
     "output_type": "execute_result"
    }
   ],
   "source": [
    "# Make the kmeans object\n",
    "kmeans = KMeans(n_clusters=3)\n",
    "\n",
    "# fit the kmeans model\n",
    "kmeans.fit(X22)\n",
    "\n",
    "# use the thing\n",
    "kmeans.predict(X22)"
   ]
  },
  {
   "cell_type": "code",
   "execution_count": 50,
   "metadata": {},
   "outputs": [],
   "source": [
    "X_train['cluster_age_weight'] = kmeans.predict(X22)\n",
    "X_validate['cluster_age_weight'] = kmeans.predict(X23)\n",
    "X_test['cluster_age_weight'] = kmeans.predict(X24)"
   ]
  },
  {
   "cell_type": "markdown",
   "metadata": {},
   "source": [
    "Hypothesis Test: <br>\n",
    "$H_0$: patients have the same length of stay in each  cluster.\n",
    "\n",
    "$H_a$: patients in cluster_demographic have a higher length of stay.\n",
    "\n",
    "alpha ($\\alpha$): 1 - confidence level (95% confidence level -> $\\alpha = .05$)"
   ]
  },
  {
   "cell_type": "code",
   "execution_count": 51,
   "metadata": {},
   "outputs": [],
   "source": [
    "n = train.shape[0]     # number of observations\n",
    "degf = n - 2        # degrees of freedom: the # of values in the final calculation of a statistic that are free to vary.\n",
    "conf_interval = .95 # desired confidence interval\n",
    "α = 1 - conf_interval\n",
    "null_hypothesis = \"patients have the same length of stay in each demographic cluster.\""
   ]
  },
  {
   "cell_type": "code",
   "execution_count": 52,
   "metadata": {},
   "outputs": [
    {
     "name": "stdout",
     "output_type": "stream",
     "text": [
      "We fail to reject the null hypothesis. The null hypothesis is that patients have the same length of stay in each demographic cluster.\n"
     ]
    }
   ],
   "source": [
    "x1 = train[train.cluster_demographics == 1].time_in_hospital\n",
    "x2 = train[train.cluster_demographics != 1].time_in_hospital\n",
    "\n",
    "t, p= stats.ttest_ind(x1, x2)\n",
    "\n",
    "if p > α:\n",
    "    print(\"We fail to reject the null hypothesis. The null hypothesis is that\", null_hypothesis)\n",
    "else:\n",
    "    print(\"We reject the null hypothesis that\", null_hypothesis)"
   ]
  },
  {
   "cell_type": "markdown",
   "metadata": {},
   "source": [
    "Takeaways:\n",
    "Most clusters have between 2-3 clusters according to the change in intertia\n",
    "Demographics doesn't seem to be a driver of hospital length of stay\n"
   ]
  },
  {
   "cell_type": "markdown",
   "metadata": {},
   "source": [
    "## Modeling"
   ]
  },
  {
   "cell_type": "markdown",
   "metadata": {},
   "source": [
    "### Feature Engineering"
   ]
  },
  {
   "cell_type": "code",
   "execution_count": 53,
   "metadata": {},
   "outputs": [
    {
     "data": {
      "text/plain": [
       "['age_[50-60)',\n",
       " 'age_[80-90)',\n",
       " 'insulin_Steady',\n",
       " 'insulin_Up',\n",
       " 'cluster_insulin']"
      ]
     },
     "execution_count": 53,
     "metadata": {},
     "output_type": "execute_result"
    }
   ],
   "source": [
    "skb_features = select_kbest(X_train, y_train, 5)\n",
    "skb_features"
   ]
  },
  {
   "cell_type": "code",
   "execution_count": 54,
   "metadata": {},
   "outputs": [
    {
     "data": {
      "text/plain": [
       "['age_[0-10)', 'age_[10-20)', 'age_[20-30)', 'weight_>200', 'metformin_Up']"
      ]
     },
     "execution_count": 54,
     "metadata": {},
     "output_type": "execute_result"
    }
   ],
   "source": [
    "get_rfe = rfe(X_train, y_train, 5)\n",
    "get_rfe"
   ]
  },
  {
   "cell_type": "markdown",
   "metadata": {},
   "source": [
    "### Create a baseline model"
   ]
  },
  {
   "cell_type": "code",
   "execution_count": 55,
   "metadata": {},
   "outputs": [],
   "source": [
    "y_train = pd.DataFrame(y_train)\n",
    "y_validate = pd.DataFrame(y_validate)\n",
    "y_test = pd.DataFrame(y_test)"
   ]
  },
  {
   "cell_type": "code",
   "execution_count": 56,
   "metadata": {},
   "outputs": [
    {
     "name": "stdout",
     "output_type": "stream",
     "text": [
      "RMSE using Mean\n",
      "Train/In-Sample:  3.0297909583445666 \n",
      "Validate/Out-of-Sample:  2.9395301825497584\n",
      "RMSE using Median\n",
      "Train/In-Sample:  3.1432876116171413 \n",
      "Validate/Out-of-Sample:  3.059278292909847\n"
     ]
    }
   ],
   "source": [
    "# 1. Predict length of hospital stay mean\n",
    "los_pred_mean = y_train.time_in_hospital.mean()\n",
    "y_train['los_pred_mean'] = los_pred_mean\n",
    "y_validate['los_pred_mean'] = los_pred_mean\n",
    "\n",
    "# 2. compute length of hospital stay median\n",
    "los_pred_median = y_train.time_in_hospital.median()\n",
    "y_train['los_pred_median'] = los_pred_median\n",
    "y_validate['los_pred_median'] = los_pred_median\n",
    "\n",
    "# 3. RMSE of length of hospital stay mean\n",
    "rmse_train = mean_squared_error(y_train.time_in_hospital, y_train.los_pred_mean) ** (1/2)\n",
    "rmse_validate = mean_squared_error(y_validate.time_in_hospital, y_validate.los_pred_mean) ** (1/2)\n",
    "\n",
    "print(\"RMSE using Mean\\nTrain/In-Sample: \", rmse_train, \n",
    "      \"\\nValidate/Out-of-Sample: \", rmse_validate)\n",
    "\n",
    "# 4. RMSE of length of hospital stay median\n",
    "rmse_train = mean_squared_error(y_train.time_in_hospital, y_train.los_pred_median) ** (1/2)\n",
    "rmse_validate_baseline = mean_squared_error(y_validate.time_in_hospital, y_validate.los_pred_median) ** (1/2)\n",
    "print(\"RMSE using Median\\nTrain/In-Sample: \", rmse_train, \n",
    "      \"\\nValidate/Out-of-Sample: \", rmse_validate_baseline)\n"
   ]
  },
  {
   "cell_type": "code",
   "execution_count": 57,
   "metadata": {},
   "outputs": [
    {
     "data": {
      "text/html": [
       "<div>\n",
       "<style scoped>\n",
       "    .dataframe tbody tr th:only-of-type {\n",
       "        vertical-align: middle;\n",
       "    }\n",
       "\n",
       "    .dataframe tbody tr th {\n",
       "        vertical-align: top;\n",
       "    }\n",
       "\n",
       "    .dataframe thead th {\n",
       "        text-align: right;\n",
       "    }\n",
       "</style>\n",
       "<table border=\"1\" class=\"dataframe\">\n",
       "  <thead>\n",
       "    <tr style=\"text-align: right;\">\n",
       "      <th></th>\n",
       "      <th>model</th>\n",
       "      <th>RMSE_validate</th>\n",
       "      <th>r^2_validate</th>\n",
       "    </tr>\n",
       "  </thead>\n",
       "  <tbody>\n",
       "    <tr>\n",
       "      <th>0</th>\n",
       "      <td>mean_baseline</td>\n",
       "      <td>2.93953</td>\n",
       "      <td>0.0</td>\n",
       "    </tr>\n",
       "  </tbody>\n",
       "</table>\n",
       "</div>"
      ],
      "text/plain": [
       "           model  RMSE_validate  r^2_validate\n",
       "0  mean_baseline        2.93953           0.0"
      ]
     },
     "execution_count": 57,
     "metadata": {},
     "output_type": "execute_result"
    }
   ],
   "source": [
    "metric_df = pd.DataFrame(data=[{\n",
    "    'model': 'mean_baseline', \n",
    "    'RMSE_validate': rmse_validate,\n",
    "    'r^2_validate': explained_variance_score(y_validate.time_in_hospital, y_validate.los_pred_mean)}])\n",
    "metric_df"
   ]
  },
  {
   "cell_type": "markdown",
   "metadata": {},
   "source": [
    "### Linear Regression Model (OLS Regressor)"
   ]
  },
  {
   "cell_type": "code",
   "execution_count": 58,
   "metadata": {},
   "outputs": [],
   "source": [
    "# Creating dataframe of cluster_insulin for modeling\n",
    "X_train_cl1 = pd.DataFrame(X_train.cluster_insulin)\n",
    "X_validate_cl1 = pd.DataFrame(X_validate.cluster_insulin)\n",
    "X_test_cl1 = pd.DataFrame(X_test.cluster_insulin)"
   ]
  },
  {
   "cell_type": "code",
   "execution_count": 59,
   "metadata": {},
   "outputs": [
    {
     "name": "stdout",
     "output_type": "stream",
     "text": [
      "RMSE for OLS using LinearRegression\n",
      "Training/In-Sample:  3.017635561185686 \n",
      "Validation/Out-of-Sample:  2.9187667985859322\n"
     ]
    }
   ],
   "source": [
    "#make the thing\n",
    "lm = LinearRegression(normalize=True)\n",
    "# fit the model to our training data. We must specify the column in y_train, \n",
    "# since we have converted it to a dataframe from a series! \n",
    "\n",
    "lm.fit(X_train_cl1, y_train.time_in_hospital)\n",
    "\n",
    "# predict train\n",
    "# \n",
    "# use the thing!\n",
    "# \n",
    "y_train['los_pred_lm'] = lm.predict(X_train_cl1)\n",
    "\n",
    "# evaluate: rmse\n",
    "rmse_train = mean_squared_error(y_train.time_in_hospital, y_train.los_pred_lm) ** (1/2)\n",
    "\n",
    "# predict validate\n",
    "y_validate['los_pred_lm'] = lm.predict(X_validate_cl1)\n",
    "\n",
    "# evaluate: rmse\n",
    "rmse_validate_ols = mean_squared_error(y_validate.time_in_hospital, y_validate.los_pred_lm) ** (1/2)\n",
    "\n",
    "print(\"RMSE for OLS using LinearRegression\\nTraining/In-Sample: \", rmse_train, \n",
    "      \"\\nValidation/Out-of-Sample: \", rmse_validate_ols)"
   ]
  },
  {
   "cell_type": "code",
   "execution_count": 60,
   "metadata": {},
   "outputs": [
    {
     "data": {
      "text/html": [
       "<div>\n",
       "<style scoped>\n",
       "    .dataframe tbody tr th:only-of-type {\n",
       "        vertical-align: middle;\n",
       "    }\n",
       "\n",
       "    .dataframe tbody tr th {\n",
       "        vertical-align: top;\n",
       "    }\n",
       "\n",
       "    .dataframe thead th {\n",
       "        text-align: right;\n",
       "    }\n",
       "</style>\n",
       "<table border=\"1\" class=\"dataframe\">\n",
       "  <thead>\n",
       "    <tr style=\"text-align: right;\">\n",
       "      <th></th>\n",
       "      <th>model</th>\n",
       "      <th>RMSE_validate</th>\n",
       "      <th>r^2_validate</th>\n",
       "    </tr>\n",
       "  </thead>\n",
       "  <tbody>\n",
       "    <tr>\n",
       "      <th>0</th>\n",
       "      <td>mean_baseline</td>\n",
       "      <td>2.939530</td>\n",
       "      <td>0.0000</td>\n",
       "    </tr>\n",
       "    <tr>\n",
       "      <th>1</th>\n",
       "      <td>OLS Regressor</td>\n",
       "      <td>2.918767</td>\n",
       "      <td>0.0141</td>\n",
       "    </tr>\n",
       "  </tbody>\n",
       "</table>\n",
       "</div>"
      ],
      "text/plain": [
       "           model  RMSE_validate  r^2_validate\n",
       "0  mean_baseline       2.939530        0.0000\n",
       "1  OLS Regressor       2.918767        0.0141"
      ]
     },
     "execution_count": 60,
     "metadata": {},
     "output_type": "execute_result"
    }
   ],
   "source": [
    "metric_df = metric_df.append({\n",
    "    'model': 'OLS Regressor', \n",
    "    'RMSE_validate': rmse_validate_ols,\n",
    "    'r^2_validate': explained_variance_score(y_validate.time_in_hospital, y_validate.los_pred_lm)}, ignore_index=True)\n",
    "metric_df"
   ]
  },
  {
   "cell_type": "markdown",
   "metadata": {},
   "source": [
    "### Lasso + LARS"
   ]
  },
  {
   "cell_type": "code",
   "execution_count": 61,
   "metadata": {},
   "outputs": [
    {
     "name": "stdout",
     "output_type": "stream",
     "text": [
      "RMSE for Lasso + Lars\n",
      "Training/In-Sample:  3.0297909583445666 \n",
      "Validation/Out-of-Sample:  2.9395301825497584\n"
     ]
    }
   ],
   "source": [
    "# create the model object\n",
    "lars = LassoLars(alpha=1)\n",
    "\n",
    "# fit the model to our training data. We must specify the column in y_train, \n",
    "# since we have converted it to a dataframe from a series!\n",
    "lars.fit(X_train_cl1, y_train.time_in_hospital)\n",
    "\n",
    "# predict train\n",
    "y_train['los_pred_lars'] = lars.predict(X_train_cl1)\n",
    "\n",
    "# evaluate: rmse\n",
    "rmse_train = mean_squared_error(y_train.time_in_hospital, y_train.los_pred_lars) ** (1/2)\n",
    "\n",
    "# predict validate\n",
    "y_validate['los_pred_lars'] = lars.predict(X_validate_cl1)\n",
    "\n",
    "# evaluate: rmse\n",
    "rmse_validate_lars = mean_squared_error(y_validate.time_in_hospital, y_validate.los_pred_lars) ** (1/2)\n",
    "\n",
    "print(\"RMSE for Lasso + Lars\\nTraining/In-Sample: \", rmse_train, \n",
    "      \"\\nValidation/Out-of-Sample: \", rmse_validate_lars)"
   ]
  },
  {
   "cell_type": "code",
   "execution_count": 62,
   "metadata": {},
   "outputs": [
    {
     "data": {
      "text/html": [
       "<div>\n",
       "<style scoped>\n",
       "    .dataframe tbody tr th:only-of-type {\n",
       "        vertical-align: middle;\n",
       "    }\n",
       "\n",
       "    .dataframe tbody tr th {\n",
       "        vertical-align: top;\n",
       "    }\n",
       "\n",
       "    .dataframe thead th {\n",
       "        text-align: right;\n",
       "    }\n",
       "</style>\n",
       "<table border=\"1\" class=\"dataframe\">\n",
       "  <thead>\n",
       "    <tr style=\"text-align: right;\">\n",
       "      <th></th>\n",
       "      <th>model</th>\n",
       "      <th>RMSE_validate</th>\n",
       "      <th>r^2_validate</th>\n",
       "    </tr>\n",
       "  </thead>\n",
       "  <tbody>\n",
       "    <tr>\n",
       "      <th>0</th>\n",
       "      <td>mean_baseline</td>\n",
       "      <td>2.939530</td>\n",
       "      <td>0.0000</td>\n",
       "    </tr>\n",
       "    <tr>\n",
       "      <th>1</th>\n",
       "      <td>OLS Regressor</td>\n",
       "      <td>2.918767</td>\n",
       "      <td>0.0141</td>\n",
       "    </tr>\n",
       "    <tr>\n",
       "      <th>2</th>\n",
       "      <td>Lasso LARS</td>\n",
       "      <td>2.939530</td>\n",
       "      <td>0.0000</td>\n",
       "    </tr>\n",
       "  </tbody>\n",
       "</table>\n",
       "</div>"
      ],
      "text/plain": [
       "           model  RMSE_validate  r^2_validate\n",
       "0  mean_baseline       2.939530        0.0000\n",
       "1  OLS Regressor       2.918767        0.0141\n",
       "2     Lasso LARS       2.939530        0.0000"
      ]
     },
     "execution_count": 62,
     "metadata": {},
     "output_type": "execute_result"
    }
   ],
   "source": [
    "metric_df = metric_df.append({\n",
    "    'model': 'Lasso LARS', \n",
    "    'RMSE_validate': rmse_validate_lars,\n",
    "    'r^2_validate': explained_variance_score(y_validate.time_in_hospital, y_validate.los_pred_lars)}, ignore_index=True)\n",
    "metric_df"
   ]
  },
  {
   "cell_type": "markdown",
   "metadata": {},
   "source": [
    "### Tweedie Regressor (GLM) Model"
   ]
  },
  {
   "cell_type": "code",
   "execution_count": 63,
   "metadata": {},
   "outputs": [
    {
     "name": "stdout",
     "output_type": "stream",
     "text": [
      "RMSE for GLM using Tweedie, power=1 & alpha=0\n",
      "Training/In-Sample:  3.0176355611864825 \n",
      "Validation/Out-of-Sample:  3.0176355611864825\n"
     ]
    }
   ],
   "source": [
    "# create the model object\n",
    "glm = TweedieRegressor(power=1, alpha=0)\n",
    "\n",
    "\n",
    "# fit the model to our training data. We must specify the column in y_train, \n",
    "# since we have converted it to a dataframe from a series! \n",
    "glm.fit(X_train_cl1, y_train.time_in_hospital)\n",
    "\n",
    "# predict train\n",
    "y_train['los_pred_glm'] = glm.predict(X_train_cl1)\n",
    "\n",
    "# evaluate: rmse\n",
    "rmse_train = mean_squared_error(y_train.time_in_hospital, y_train.los_pred_glm) ** (1/2)\n",
    "\n",
    "# predict validate\n",
    "y_validate['los_pred_glm'] = glm.predict(X_validate_cl1)\n",
    "\n",
    "# evaluate: rmse\n",
    "rmse_validate_glm = mean_squared_error(y_train.time_in_hospital, y_train.los_pred_glm) ** (1/2)\n",
    "\n",
    "print(\"RMSE for GLM using Tweedie, power=1 & alpha=0\\nTraining/In-Sample: \", rmse_train, \n",
    "      \"\\nValidation/Out-of-Sample: \", rmse_validate_glm)"
   ]
  },
  {
   "cell_type": "code",
   "execution_count": 64,
   "metadata": {},
   "outputs": [
    {
     "data": {
      "text/html": [
       "<div>\n",
       "<style scoped>\n",
       "    .dataframe tbody tr th:only-of-type {\n",
       "        vertical-align: middle;\n",
       "    }\n",
       "\n",
       "    .dataframe tbody tr th {\n",
       "        vertical-align: top;\n",
       "    }\n",
       "\n",
       "    .dataframe thead th {\n",
       "        text-align: right;\n",
       "    }\n",
       "</style>\n",
       "<table border=\"1\" class=\"dataframe\">\n",
       "  <thead>\n",
       "    <tr style=\"text-align: right;\">\n",
       "      <th></th>\n",
       "      <th>model</th>\n",
       "      <th>RMSE_validate</th>\n",
       "      <th>r^2_validate</th>\n",
       "    </tr>\n",
       "  </thead>\n",
       "  <tbody>\n",
       "    <tr>\n",
       "      <th>0</th>\n",
       "      <td>mean_baseline</td>\n",
       "      <td>2.939530</td>\n",
       "      <td>0.0000</td>\n",
       "    </tr>\n",
       "    <tr>\n",
       "      <th>1</th>\n",
       "      <td>OLS Regressor</td>\n",
       "      <td>2.918767</td>\n",
       "      <td>0.0141</td>\n",
       "    </tr>\n",
       "    <tr>\n",
       "      <th>2</th>\n",
       "      <td>Lasso LARS</td>\n",
       "      <td>2.939530</td>\n",
       "      <td>0.0000</td>\n",
       "    </tr>\n",
       "    <tr>\n",
       "      <th>3</th>\n",
       "      <td>GLM</td>\n",
       "      <td>3.017636</td>\n",
       "      <td>0.0141</td>\n",
       "    </tr>\n",
       "  </tbody>\n",
       "</table>\n",
       "</div>"
      ],
      "text/plain": [
       "           model  RMSE_validate  r^2_validate\n",
       "0  mean_baseline       2.939530        0.0000\n",
       "1  OLS Regressor       2.918767        0.0141\n",
       "2     Lasso LARS       2.939530        0.0000\n",
       "3            GLM       3.017636        0.0141"
      ]
     },
     "execution_count": 64,
     "metadata": {},
     "output_type": "execute_result"
    }
   ],
   "source": [
    "metric_df = metric_df.append({\n",
    "    'model': 'GLM', \n",
    "    'RMSE_validate': rmse_validate_glm,\n",
    "    'r^2_validate': explained_variance_score(y_validate.time_in_hospital, y_validate.los_pred_glm)}, ignore_index=True)\n",
    "metric_df"
   ]
  },
  {
   "cell_type": "markdown",
   "metadata": {},
   "source": [
    "Takeaways:\n",
    "- The best performing model was the OLS regressor\n",
    "- I was unable to fit the polynomial regressor to the data\n",
    "- The worst performing odel was the Tweedie Regressor"
   ]
  },
  {
   "cell_type": "markdown",
   "metadata": {},
   "source": [
    "### Model on Test Data"
   ]
  },
  {
   "cell_type": "code",
   "execution_count": 72,
   "metadata": {},
   "outputs": [
    {
     "name": "stdout",
     "output_type": "stream",
     "text": [
      "RMSE for Model using \n",
      "Out-of-Sample Performance:  2.897228547394784\n"
     ]
    }
   ],
   "source": [
    "# predict on test\n",
    "y_test['los_pred_lm'] = lm.predict(X_test_cl1)\n",
    "\n",
    "# evaluate: rmse\n",
    "rmse_test = mean_squared_error(y_test.time_in_hospital, y_test.los_pred_lm) ** (1/2)\n",
    "\n",
    "print(\"RMSE for Model using \\nOut-of-Sample Performance: \", rmse_test)"
   ]
  },
  {
   "cell_type": "code",
   "execution_count": 75,
   "metadata": {},
   "outputs": [
    {
     "data": {
      "image/png": "[encoded data removed]",
      "text/plain": [
       "<Figure size 1152x576 with 1 Axes>"
      ]
     },
     "metadata": {
      "needs_background": "light"
     },
     "output_type": "display_data"
    }
   ],
   "source": [
    "plt.figure(figsize=(16,8))\n",
    "plt.plot(y_validate.time_in_hospital, y_validate.los_pred_mean, alpha=.5, color=\"gray\", label='Baseline (predicted = time in hospital')\n",
    "plt.plot(y_validate.time_in_hospital, y_validate.time_in_hospital, alpha=.999, color=\"blue\", label='Ideal Line (actual time in hospital)')\n",
    "\n",
    "plt.scatter(y_test.time_in_hospital, y_test.los_pred_lm, \n",
    "            alpha=.45, color=\"darkseagreen\", s=100, label=\"OLS Regressor\")\n",
    "plt.legend()\n",
    "plt.xlabel(\"Actual Time in Hospital\")\n",
    "plt.ylabel(\"Predicted Time in Hospital\")\n",
    "plt.title(\"Predicting Time in Hospital using the Linear Regression Model on Test Data\")\n",
    "plt.show()"
   ]
  },
  {
   "cell_type": "markdown",
   "metadata": {},
   "source": [
    "# Conclusion"
   ]
  },
  {
   "cell_type": "markdown",
   "metadata": {},
   "source": [
    "- The clusters on insulin were the only clusters selected as best features by Select K Best and RFE.\n",
    "- This can be evidenced by insulins being listed as top features for predicting hospital stay.\n",
    "- When fitting this cluster to regression models, the best performing model is the linear regression model performed at 2.918 beating the baseline of 2.939.\n",
    "- If more time was allotted, I would like to identify what demographic of patients within the insulin clusters had a increased length of stay. I would also like to compare pediatric versus adult length of stays.\n",
    "- If more resources were alloted, I would like to use medication compliance and if the patient had documented diabetes education prior to admission."
   ]
  },
  {
   "cell_type": "code",
   "execution_count": null,
   "metadata": {},
   "outputs": [],
   "source": []
  }
 ],
 "metadata": {
  "kernelspec": {
   "display_name": "Python 3",
   "language": "python",
   "name": "python3"
  },
  "language_info": {
   "codemirror_mode": {
    "name": "ipython",
    "version": 3
   },
   "file_extension": ".py",
   "mimetype": "text/x-python",
   "name": "python",
   "nbconvert_exporter": "python",
   "pygments_lexer": "ipython3",
   "version": "3.7.6"
  }
 },
 "nbformat": 4,
 "nbformat_minor": 4
}
